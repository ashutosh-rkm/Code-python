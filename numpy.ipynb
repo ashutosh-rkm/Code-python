{
 "cells": [
  {
   "cell_type": "code",
   "execution_count": 1,
   "id": "e20e900d-6d7e-423c-a0a9-c608b225449c",
   "metadata": {
    "tags": []
   },
   "outputs": [],
   "source": [
    "import numpy as np"
   ]
  },
  {
   "cell_type": "code",
   "execution_count": 2,
   "id": "a4f2abc9-b348-4a84-abab-e39c70f22ebc",
   "metadata": {
    "tags": []
   },
   "outputs": [],
   "source": [
    "a=np.array([10,20,60])"
   ]
  },
  {
   "cell_type": "code",
   "execution_count": 3,
   "id": "d704b5a6-caa7-4e9d-9371-83e77e3c6ca2",
   "metadata": {
    "tags": []
   },
   "outputs": [
    {
     "data": {
      "text/plain": [
       "numpy.ndarray"
      ]
     },
     "execution_count": 3,
     "metadata": {},
     "output_type": "execute_result"
    }
   ],
   "source": [
    "type(a)"
   ]
  },
  {
   "cell_type": "code",
   "execution_count": 5,
   "id": "43c4b808-2d02-4a46-9c3b-7d4a970afd0e",
   "metadata": {
    "tags": []
   },
   "outputs": [
    {
     "data": {
      "text/plain": [
       "1"
      ]
     },
     "execution_count": 5,
     "metadata": {},
     "output_type": "execute_result"
    }
   ],
   "source": [
    "a.ndim"
   ]
  },
  {
   "cell_type": "code",
   "execution_count": 6,
   "id": "0d85f8f1-5880-4715-a203-971a2c84d613",
   "metadata": {
    "tags": []
   },
   "outputs": [
    {
     "data": {
      "text/plain": [
       "(3,)"
      ]
     },
     "execution_count": 6,
     "metadata": {},
     "output_type": "execute_result"
    }
   ],
   "source": [
    "a.shape"
   ]
  },
  {
   "cell_type": "code",
   "execution_count": 7,
   "id": "7004878d-982d-463c-a86e-74fd2718bb77",
   "metadata": {
    "tags": []
   },
   "outputs": [
    {
     "data": {
      "text/plain": [
       "60"
      ]
     },
     "execution_count": 7,
     "metadata": {},
     "output_type": "execute_result"
    }
   ],
   "source": [
    "a[2]"
   ]
  },
  {
   "cell_type": "code",
   "execution_count": 8,
   "id": "01a368ed-ff52-4350-8dbd-e83cf6e0210e",
   "metadata": {
    "tags": []
   },
   "outputs": [
    {
     "data": {
      "text/plain": [
       "60"
      ]
     },
     "execution_count": 8,
     "metadata": {},
     "output_type": "execute_result"
    }
   ],
   "source": [
    "a[-1]"
   ]
  },
  {
   "cell_type": "code",
   "execution_count": 9,
   "id": "0aeab9ee-6449-49da-ade9-84ba9a3fa9d1",
   "metadata": {
    "tags": []
   },
   "outputs": [
    {
     "data": {
      "text/plain": [
       "array([10, 20, 60])"
      ]
     },
     "execution_count": 9,
     "metadata": {},
     "output_type": "execute_result"
    }
   ],
   "source": [
    "a"
   ]
  },
  {
   "cell_type": "code",
   "execution_count": 10,
   "id": "1bc9076a-0e61-42dd-861a-90e8c0eae28f",
   "metadata": {
    "tags": []
   },
   "outputs": [
    {
     "data": {
      "text/plain": [
       "array([20])"
      ]
     },
     "execution_count": 10,
     "metadata": {},
     "output_type": "execute_result"
    }
   ],
   "source": [
    "a[1:2]"
   ]
  },
  {
   "cell_type": "code",
   "execution_count": 12,
   "id": "85d6268d-3db3-48e5-95ec-f31ebc853203",
   "metadata": {
    "tags": []
   },
   "outputs": [],
   "source": [
    "temp=[[1,2,3],[4,5,6]]"
   ]
  },
  {
   "cell_type": "code",
   "execution_count": 13,
   "id": "bc21e749-5a00-4ab6-b56b-4433045f2c88",
   "metadata": {
    "tags": []
   },
   "outputs": [
    {
     "data": {
      "text/plain": [
       "list"
      ]
     },
     "execution_count": 13,
     "metadata": {},
     "output_type": "execute_result"
    }
   ],
   "source": [
    "type(temp)"
   ]
  },
  {
   "cell_type": "code",
   "execution_count": 14,
   "id": "81e35813-fef8-4998-b610-88d8bd7a7626",
   "metadata": {
    "tags": []
   },
   "outputs": [],
   "source": [
    "b1=np.array(temp)"
   ]
  },
  {
   "cell_type": "code",
   "execution_count": 15,
   "id": "9bac81dc-59b7-41bc-a810-179f4802bb91",
   "metadata": {
    "tags": []
   },
   "outputs": [
    {
     "data": {
      "text/plain": [
       "array([[1, 2, 3],\n",
       "       [4, 5, 6]])"
      ]
     },
     "execution_count": 15,
     "metadata": {},
     "output_type": "execute_result"
    }
   ],
   "source": [
    "b1"
   ]
  },
  {
   "cell_type": "code",
   "execution_count": 16,
   "id": "167260d5-ee8c-499d-9e36-a14700a99c76",
   "metadata": {
    "tags": []
   },
   "outputs": [
    {
     "data": {
      "text/plain": [
       "2"
      ]
     },
     "execution_count": 16,
     "metadata": {},
     "output_type": "execute_result"
    }
   ],
   "source": [
    "b1.ndim"
   ]
  },
  {
   "cell_type": "code",
   "execution_count": 17,
   "id": "8ee752c3-8682-4ca2-9704-de5983210584",
   "metadata": {
    "tags": []
   },
   "outputs": [
    {
     "data": {
      "text/plain": [
       "(2, 3)"
      ]
     },
     "execution_count": 17,
     "metadata": {},
     "output_type": "execute_result"
    }
   ],
   "source": [
    "b1.shape"
   ]
  },
  {
   "cell_type": "code",
   "execution_count": 19,
   "id": "28d7ba50-dfab-4bb2-a481-d3de133daf42",
   "metadata": {
    "tags": []
   },
   "outputs": [
    {
     "data": {
      "text/plain": [
       "array([2, 5])"
      ]
     },
     "execution_count": 19,
     "metadata": {},
     "output_type": "execute_result"
    }
   ],
   "source": [
    "b1[:,1]"
   ]
  },
  {
   "cell_type": "code",
   "execution_count": 20,
   "id": "299b3583-e410-4dde-a58a-b69fb39bd5eb",
   "metadata": {
    "tags": []
   },
   "outputs": [
    {
     "data": {
      "text/plain": [
       "array([[1, 2, 3],\n",
       "       [4, 5, 6]])"
      ]
     },
     "execution_count": 20,
     "metadata": {},
     "output_type": "execute_result"
    }
   ],
   "source": [
    "b1[:,:]"
   ]
  },
  {
   "cell_type": "code",
   "execution_count": 21,
   "id": "45484ac0-55d8-4420-9f92-c9a7b99c6d1c",
   "metadata": {
    "tags": []
   },
   "outputs": [
    {
     "data": {
      "text/plain": [
       "array([4, 5, 6])"
      ]
     },
     "execution_count": 21,
     "metadata": {},
     "output_type": "execute_result"
    }
   ],
   "source": [
    "b1[-1,:]"
   ]
  },
  {
   "cell_type": "code",
   "execution_count": 22,
   "id": "089f97ff-7f15-47f8-b141-f5688fb62049",
   "metadata": {
    "tags": []
   },
   "outputs": [],
   "source": [
    "b2=b1"
   ]
  },
  {
   "cell_type": "code",
   "execution_count": 23,
   "id": "94ebcb87-06c5-4fcf-ad87-dcc53db497c8",
   "metadata": {
    "tags": []
   },
   "outputs": [
    {
     "data": {
      "text/plain": [
       "1799078590576"
      ]
     },
     "execution_count": 23,
     "metadata": {},
     "output_type": "execute_result"
    }
   ],
   "source": [
    "id(b1)"
   ]
  },
  {
   "cell_type": "code",
   "execution_count": 24,
   "id": "658a8594-f288-45e7-aef2-d36eef95e774",
   "metadata": {
    "tags": []
   },
   "outputs": [
    {
     "data": {
      "text/plain": [
       "1799078590576"
      ]
     },
     "execution_count": 24,
     "metadata": {},
     "output_type": "execute_result"
    }
   ],
   "source": [
    "id(b2)"
   ]
  },
  {
   "cell_type": "code",
   "execution_count": 25,
   "id": "bcacee36-d002-4065-a26a-9da5f0452235",
   "metadata": {
    "tags": []
   },
   "outputs": [
    {
     "data": {
      "text/plain": [
       "array([[1, 2, 3],\n",
       "       [4, 5, 6]])"
      ]
     },
     "execution_count": 25,
     "metadata": {},
     "output_type": "execute_result"
    }
   ],
   "source": [
    "b2"
   ]
  },
  {
   "cell_type": "code",
   "execution_count": 26,
   "id": "bef38826-e0bb-47f2-98e3-24e847275d88",
   "metadata": {
    "tags": []
   },
   "outputs": [
    {
     "data": {
      "text/plain": [
       "array([[1, 2, 3],\n",
       "       [4, 5, 6]])"
      ]
     },
     "execution_count": 26,
     "metadata": {},
     "output_type": "execute_result"
    }
   ],
   "source": [
    "b1"
   ]
  },
  {
   "cell_type": "code",
   "execution_count": 27,
   "id": "de2e388f-1c40-4533-b32d-d03393e79d19",
   "metadata": {
    "tags": []
   },
   "outputs": [],
   "source": [
    "b1[0,0]=500"
   ]
  },
  {
   "cell_type": "code",
   "execution_count": 28,
   "id": "dbb72ec3-3efa-49d7-95db-19e3204a285f",
   "metadata": {
    "tags": []
   },
   "outputs": [
    {
     "data": {
      "text/plain": [
       "array([[500,   2,   3],\n",
       "       [  4,   5,   6]])"
      ]
     },
     "execution_count": 28,
     "metadata": {},
     "output_type": "execute_result"
    }
   ],
   "source": [
    "b1"
   ]
  },
  {
   "cell_type": "code",
   "execution_count": 29,
   "id": "5d1d0c3f-66b3-44ab-b602-57e2b7aeb8b6",
   "metadata": {
    "tags": []
   },
   "outputs": [
    {
     "data": {
      "text/plain": [
       "array([[500,   2,   3],\n",
       "       [  4,   5,   6]])"
      ]
     },
     "execution_count": 29,
     "metadata": {},
     "output_type": "execute_result"
    }
   ],
   "source": [
    "b2"
   ]
  },
  {
   "cell_type": "code",
   "execution_count": 30,
   "id": "00763bb8-3867-44d1-826b-1d8b29c1166a",
   "metadata": {
    "tags": []
   },
   "outputs": [],
   "source": [
    "b3=b1.copy"
   ]
  },
  {
   "cell_type": "code",
   "execution_count": 31,
   "id": "6090218c-bc9a-4315-9d9f-401b524596dc",
   "metadata": {
    "tags": []
   },
   "outputs": [
    {
     "data": {
      "text/plain": [
       "<function ndarray.copy>"
      ]
     },
     "execution_count": 31,
     "metadata": {},
     "output_type": "execute_result"
    }
   ],
   "source": [
    "b3"
   ]
  },
  {
   "cell_type": "code",
   "execution_count": 32,
   "id": "355933bf-61e4-4be4-90f5-ef78be3f4b0f",
   "metadata": {
    "tags": []
   },
   "outputs": [
    {
     "data": {
      "text/plain": [
       "1799078590576"
      ]
     },
     "execution_count": 32,
     "metadata": {},
     "output_type": "execute_result"
    }
   ],
   "source": [
    "id(b1)"
   ]
  },
  {
   "cell_type": "code",
   "execution_count": 33,
   "id": "c9c7617a-74ea-469c-b387-ad1a0b0246ae",
   "metadata": {
    "tags": []
   },
   "outputs": [
    {
     "data": {
      "text/plain": [
       "1799080214048"
      ]
     },
     "execution_count": 33,
     "metadata": {},
     "output_type": "execute_result"
    }
   ],
   "source": [
    "id(b3)"
   ]
  },
  {
   "cell_type": "code",
   "execution_count": 34,
   "id": "0f767a75-2f64-4105-970e-52297b308ec5",
   "metadata": {
    "tags": []
   },
   "outputs": [
    {
     "data": {
      "text/plain": [
       "<function ndarray.copy>"
      ]
     },
     "execution_count": 34,
     "metadata": {},
     "output_type": "execute_result"
    }
   ],
   "source": [
    "b3"
   ]
  },
  {
   "cell_type": "code",
   "execution_count": 36,
   "id": "3313880e-c263-4920-89da-1130520a0840",
   "metadata": {
    "tags": []
   },
   "outputs": [
    {
     "data": {
      "text/plain": [
       "array([[500,   4],\n",
       "       [  2,   5],\n",
       "       [  3,   6]])"
      ]
     },
     "execution_count": 36,
     "metadata": {},
     "output_type": "execute_result"
    }
   ],
   "source": [
    "bbb=np.transpose(b1)"
   ]
  },
  {
   "cell_type": "code",
   "execution_count": 38,
   "id": "bb8d8896-9788-4bfa-a614-e55f18ceab2e",
   "metadata": {
    "tags": []
   },
   "outputs": [
    {
     "data": {
      "text/plain": [
       "array([[500,   2,   3],\n",
       "       [  4,   5,   6]])"
      ]
     },
     "execution_count": 38,
     "metadata": {},
     "output_type": "execute_result"
    }
   ],
   "source": [
    "b1"
   ]
  },
  {
   "cell_type": "code",
   "execution_count": 39,
   "id": "fd5684f5-80dd-487d-8f13-32d1226c1dc5",
   "metadata": {
    "tags": []
   },
   "outputs": [
    {
     "data": {
      "text/plain": [
       "(2, 3)"
      ]
     },
     "execution_count": 39,
     "metadata": {},
     "output_type": "execute_result"
    }
   ],
   "source": [
    "b1.shape"
   ]
  },
  {
   "cell_type": "code",
   "execution_count": 41,
   "id": "fbf9b265-1e64-40f7-8ef4-580b349815a3",
   "metadata": {
    "tags": []
   },
   "outputs": [],
   "source": [
    "temp=b1.reshape((1,6))"
   ]
  },
  {
   "cell_type": "code",
   "execution_count": 42,
   "id": "cfb88d0e-5ef0-4a9d-97c3-7380ee407458",
   "metadata": {
    "tags": []
   },
   "outputs": [
    {
     "data": {
      "text/plain": [
       "array([[500,   2,   3],\n",
       "       [  4,   5,   6]])"
      ]
     },
     "execution_count": 42,
     "metadata": {},
     "output_type": "execute_result"
    }
   ],
   "source": [
    "b1"
   ]
  },
  {
   "cell_type": "code",
   "execution_count": 43,
   "id": "f2943596-0795-422d-9ee6-7aaf8373a96a",
   "metadata": {
    "tags": []
   },
   "outputs": [
    {
     "data": {
      "text/plain": [
       "array([[500,   2,   3,   4,   5,   6]])"
      ]
     },
     "execution_count": 43,
     "metadata": {},
     "output_type": "execute_result"
    }
   ],
   "source": [
    "temp"
   ]
  },
  {
   "cell_type": "code",
   "execution_count": 44,
   "id": "695960b6-cf0b-44dd-a5fb-f2c0298755d5",
   "metadata": {
    "tags": []
   },
   "outputs": [
    {
     "data": {
      "text/plain": [
       "(1, 6)"
      ]
     },
     "execution_count": 44,
     "metadata": {},
     "output_type": "execute_result"
    }
   ],
   "source": [
    "temp.shape"
   ]
  },
  {
   "cell_type": "code",
   "execution_count": 46,
   "id": "87cabbc0-5bb6-4be3-941b-68df8a2dca86",
   "metadata": {
    "tags": []
   },
   "outputs": [],
   "source": [
    "temp=b1.reshape(-1) ##flatten "
   ]
  },
  {
   "cell_type": "code",
   "execution_count": 47,
   "id": "a31dada0-5a24-4f02-90ae-241c8d045b02",
   "metadata": {
    "tags": []
   },
   "outputs": [
    {
     "data": {
      "text/plain": [
       "array([500,   2,   3,   4,   5,   6])"
      ]
     },
     "execution_count": 47,
     "metadata": {},
     "output_type": "execute_result"
    }
   ],
   "source": [
    "temp"
   ]
  },
  {
   "cell_type": "code",
   "execution_count": 48,
   "id": "7221bac3-bbb4-4ff9-8bc2-214624010144",
   "metadata": {
    "tags": []
   },
   "outputs": [
    {
     "data": {
      "text/plain": [
       "(6,)"
      ]
     },
     "execution_count": 48,
     "metadata": {},
     "output_type": "execute_result"
    }
   ],
   "source": [
    "temp.shape"
   ]
  },
  {
   "cell_type": "code",
   "execution_count": 50,
   "id": "0f670a2d-e12a-4ce0-b9c6-55df15f1612b",
   "metadata": {
    "tags": []
   },
   "outputs": [
    {
     "data": {
      "text/plain": [
       "array([[500,   2,   3],\n",
       "       [  4,   5,   6]])"
      ]
     },
     "execution_count": 50,
     "metadata": {},
     "output_type": "execute_result"
    }
   ],
   "source": [
    "b2"
   ]
  },
  {
   "cell_type": "code",
   "execution_count": 51,
   "id": "29abbfe7-2e82-4cc0-ab7d-7137fb710070",
   "metadata": {
    "tags": []
   },
   "outputs": [
    {
     "data": {
      "text/plain": [
       "array([[500,   2,   3],\n",
       "       [  4,   5,   6]])"
      ]
     },
     "execution_count": 51,
     "metadata": {},
     "output_type": "execute_result"
    }
   ],
   "source": [
    "b1"
   ]
  },
  {
   "cell_type": "code",
   "execution_count": 52,
   "id": "817151ca-be83-45a5-b1b0-e0ef204bc25c",
   "metadata": {
    "tags": []
   },
   "outputs": [],
   "source": [
    "b_add=np.add(b1,b2)"
   ]
  },
  {
   "cell_type": "code",
   "execution_count": 53,
   "id": "201bda46-6cbc-4fe4-b829-114dd590b9ba",
   "metadata": {
    "tags": []
   },
   "outputs": [
    {
     "data": {
      "text/plain": [
       "array([[1000,    4,    6],\n",
       "       [   8,   10,   12]])"
      ]
     },
     "execution_count": 53,
     "metadata": {},
     "output_type": "execute_result"
    }
   ],
   "source": [
    "b_add"
   ]
  },
  {
   "cell_type": "code",
   "execution_count": 58,
   "id": "a2c347ef-c7c2-401e-ba98-d299450f141f",
   "metadata": {
    "tags": []
   },
   "outputs": [],
   "source": [
    "b_temp=np.subtract(b_add,b1)"
   ]
  },
  {
   "cell_type": "code",
   "execution_count": 59,
   "id": "27068f7a-e0ed-44fd-8bbb-33a6f8439688",
   "metadata": {
    "tags": []
   },
   "outputs": [
    {
     "data": {
      "text/plain": [
       "array([[500,   2,   3],\n",
       "       [  4,   5,   6]])"
      ]
     },
     "execution_count": 59,
     "metadata": {},
     "output_type": "execute_result"
    }
   ],
   "source": [
    "b_temp"
   ]
  },
  {
   "cell_type": "code",
   "execution_count": 60,
   "id": "af885603-9153-4516-a664-84400748093b",
   "metadata": {
    "tags": []
   },
   "outputs": [],
   "source": [
    "b_temp=np.divide(b_add,b1)"
   ]
  },
  {
   "cell_type": "code",
   "execution_count": 61,
   "id": "01f4d95b-8278-43ef-9833-19b128205f59",
   "metadata": {
    "tags": []
   },
   "outputs": [
    {
     "data": {
      "text/plain": [
       "array([[2., 2., 2.],\n",
       "       [2., 2., 2.]])"
      ]
     },
     "execution_count": 61,
     "metadata": {},
     "output_type": "execute_result"
    }
   ],
   "source": [
    "b_temp"
   ]
  },
  {
   "cell_type": "code",
   "execution_count": 63,
   "id": "66284ba9-da43-4668-be20-29a2da9bc04c",
   "metadata": {
    "tags": []
   },
   "outputs": [],
   "source": [
    "b_mul=np.multiply(b1,b2)"
   ]
  },
  {
   "cell_type": "code",
   "execution_count": 64,
   "id": "ce7fac76-d2f7-41e8-a439-0841215ac4d1",
   "metadata": {
    "tags": []
   },
   "outputs": [
    {
     "data": {
      "text/plain": [
       "array([[250000,      4,      9],\n",
       "       [    16,     25,     36]])"
      ]
     },
     "execution_count": 64,
     "metadata": {},
     "output_type": "execute_result"
    }
   ],
   "source": [
    "b_mul"
   ]
  },
  {
   "cell_type": "code",
   "execution_count": 65,
   "id": "112e9cff-25b1-45e7-9330-7c0e6d057b27",
   "metadata": {
    "tags": []
   },
   "outputs": [
    {
     "ename": "ValueError",
     "evalue": "shapes (2,3) and (2,3) not aligned: 3 (dim 1) != 2 (dim 0)",
     "output_type": "error",
     "traceback": [
      "\u001b[1;31m---------------------------------------------------------------------------\u001b[0m",
      "\u001b[1;31mValueError\u001b[0m                                Traceback (most recent call last)",
      "Cell \u001b[1;32mIn[65], line 1\u001b[0m\n\u001b[1;32m----> 1\u001b[0m b_mull\u001b[38;5;241m=\u001b[39mnp\u001b[38;5;241m.\u001b[39mdot(b1,b2)\n",
      "File \u001b[1;32m<__array_function__ internals>:200\u001b[0m, in \u001b[0;36mdot\u001b[1;34m(*args, **kwargs)\u001b[0m\n",
      "\u001b[1;31mValueError\u001b[0m: shapes (2,3) and (2,3) not aligned: 3 (dim 1) != 2 (dim 0)"
     ]
    }
   ],
   "source": [
    "b_mull=np.dot(b1,b2)"
   ]
  },
  {
   "cell_type": "code",
   "execution_count": 66,
   "id": "4c33ba99-94b7-4f5f-965d-7360d53d582f",
   "metadata": {
    "tags": []
   },
   "outputs": [],
   "source": [
    "b4=b2.reshape(3,2)"
   ]
  },
  {
   "cell_type": "code",
   "execution_count": 67,
   "id": "2ee75a93-3a29-467b-a8b0-e3c33fcf7343",
   "metadata": {
    "tags": []
   },
   "outputs": [
    {
     "data": {
      "text/plain": [
       "array([[500,   2],\n",
       "       [  3,   4],\n",
       "       [  5,   6]])"
      ]
     },
     "execution_count": 67,
     "metadata": {},
     "output_type": "execute_result"
    }
   ],
   "source": [
    "b4"
   ]
  },
  {
   "cell_type": "code",
   "execution_count": 68,
   "id": "b7c6c736-4a31-4852-90cf-d9766f4a6b16",
   "metadata": {
    "tags": []
   },
   "outputs": [],
   "source": [
    "b_mull=np.dot(b2,b4)"
   ]
  },
  {
   "cell_type": "code",
   "execution_count": 69,
   "id": "c7f19067-fd59-4fc3-be5a-c4b62f6cc9da",
   "metadata": {
    "tags": []
   },
   "outputs": [
    {
     "data": {
      "text/plain": [
       "array([[250021,   1026],\n",
       "       [  2045,     64]])"
      ]
     },
     "execution_count": 69,
     "metadata": {},
     "output_type": "execute_result"
    }
   ],
   "source": [
    "b_mull"
   ]
  },
  {
   "cell_type": "code",
   "execution_count": 70,
   "id": "9af7c74b-584e-48eb-b734-fdbf0f7a8bec",
   "metadata": {
    "tags": []
   },
   "outputs": [
    {
     "data": {
      "text/plain": [
       "array([[500,   2],\n",
       "       [  3,   4],\n",
       "       [  5,   6]])"
      ]
     },
     "execution_count": 70,
     "metadata": {},
     "output_type": "execute_result"
    }
   ],
   "source": [
    "b4"
   ]
  },
  {
   "cell_type": "code",
   "execution_count": 71,
   "id": "dfa46828-fe9a-49b0-b5d9-eb060b01003d",
   "metadata": {
    "tags": []
   },
   "outputs": [
    {
     "data": {
      "text/plain": [
       "array([[500,   2,   3],\n",
       "       [  4,   5,   6]])"
      ]
     },
     "execution_count": 71,
     "metadata": {},
     "output_type": "execute_result"
    }
   ],
   "source": [
    "b2"
   ]
  },
  {
   "cell_type": "code",
   "execution_count": 72,
   "id": "fc866af8-8c19-4130-bf7e-b67412676d7b",
   "metadata": {
    "tags": []
   },
   "outputs": [
    {
     "data": {
      "text/plain": [
       "array([10, 20, 60])"
      ]
     },
     "execution_count": 72,
     "metadata": {},
     "output_type": "execute_result"
    }
   ],
   "source": [
    "a"
   ]
  },
  {
   "cell_type": "code",
   "execution_count": 73,
   "id": "ff8d7baf-c5c3-4191-ad4e-c90c7b90f893",
   "metadata": {
    "tags": []
   },
   "outputs": [
    {
     "data": {
      "text/plain": [
       "60"
      ]
     },
     "execution_count": 73,
     "metadata": {},
     "output_type": "execute_result"
    }
   ],
   "source": [
    "np.max(a)"
   ]
  },
  {
   "cell_type": "code",
   "execution_count": 74,
   "id": "1bb0268b-1a43-44a6-b4a5-3dde54b5ddc0",
   "metadata": {
    "tags": []
   },
   "outputs": [
    {
     "data": {
      "text/plain": [
       "10"
      ]
     },
     "execution_count": 74,
     "metadata": {},
     "output_type": "execute_result"
    }
   ],
   "source": [
    "np.min(a)"
   ]
  },
  {
   "cell_type": "code",
   "execution_count": 75,
   "id": "ebdc9992-4aeb-485c-a000-925406cae3fc",
   "metadata": {
    "tags": []
   },
   "outputs": [
    {
     "data": {
      "text/plain": [
       "30.0"
      ]
     },
     "execution_count": 75,
     "metadata": {},
     "output_type": "execute_result"
    }
   ],
   "source": [
    "np.mean(a)"
   ]
  },
  {
   "cell_type": "code",
   "execution_count": 76,
   "id": "bed27ace-038e-4fad-a89f-1be788f8691c",
   "metadata": {
    "tags": []
   },
   "outputs": [
    {
     "data": {
      "text/plain": [
       "21.602468994692867"
      ]
     },
     "execution_count": 76,
     "metadata": {},
     "output_type": "execute_result"
    }
   ],
   "source": [
    "np.std(a)"
   ]
  },
  {
   "cell_type": "code",
   "execution_count": 78,
   "id": "c1b28245-5708-4971-920d-7a810f90cb8e",
   "metadata": {
    "tags": []
   },
   "outputs": [
    {
     "data": {
      "text/plain": [
       "30.0"
      ]
     },
     "execution_count": 78,
     "metadata": {},
     "output_type": "execute_result"
    }
   ],
   "source": [
    "np.average(a)"
   ]
  },
  {
   "cell_type": "code",
   "execution_count": 80,
   "id": "234892c5-6cf7-4c09-8b46-ddcd66c19ab8",
   "metadata": {
    "tags": []
   },
   "outputs": [
    {
     "data": {
      "text/plain": [
       "0.0"
      ]
     },
     "execution_count": 80,
     "metadata": {},
     "output_type": "execute_result"
    }
   ],
   "source": [
    "np.sin(0)"
   ]
  },
  {
   "cell_type": "code",
   "execution_count": 81,
   "id": "3c7e9064-0ede-429a-8c5c-4145a2c073e8",
   "metadata": {
    "tags": []
   },
   "outputs": [
    {
     "data": {
      "text/plain": [
       "0.8509035245341184"
      ]
     },
     "execution_count": 81,
     "metadata": {},
     "output_type": "execute_result"
    }
   ],
   "source": [
    "np.sin(45)"
   ]
  },
  {
   "cell_type": "code",
   "execution_count": 82,
   "id": "8863552f-b803-4e7b-bac8-ba062821b133",
   "metadata": {
    "tags": []
   },
   "outputs": [
    {
     "data": {
      "text/plain": [
       "1.6197751905438615"
      ]
     },
     "execution_count": 82,
     "metadata": {},
     "output_type": "execute_result"
    }
   ],
   "source": [
    "np.tan(45)"
   ]
  },
  {
   "cell_type": "code",
   "execution_count": 83,
   "id": "3c489d98-b4bd-4607-8201-d1ee5c075102",
   "metadata": {
    "tags": []
   },
   "outputs": [
    {
     "data": {
      "text/plain": [
       "6.102016471589204e+38"
      ]
     },
     "execution_count": 83,
     "metadata": {},
     "output_type": "execute_result"
    }
   ],
   "source": [
    "np.sinh(90)"
   ]
  },
  {
   "cell_type": "code",
   "execution_count": 89,
   "id": "2d5f7526-73d9-44b0-8d2f-675362617eb8",
   "metadata": {
    "tags": []
   },
   "outputs": [
    {
     "data": {
      "text/plain": [
       "5.0"
      ]
     },
     "execution_count": 89,
     "metadata": {},
     "output_type": "execute_result"
    }
   ],
   "source": [
    "np.sqrt(25)"
   ]
  },
  {
   "cell_type": "code",
   "execution_count": 84,
   "id": "dbfa7933-fd9a-4765-8332-0c7feebcc072",
   "metadata": {
    "tags": []
   },
   "outputs": [
    {
     "data": {
      "text/plain": [
       "4.605170185988092"
      ]
     },
     "execution_count": 84,
     "metadata": {},
     "output_type": "execute_result"
    }
   ],
   "source": [
    "np.log(100)"
   ]
  },
  {
   "cell_type": "code",
   "execution_count": 85,
   "id": "167a90f6-6cc8-407f-b3e7-1684f450db5e",
   "metadata": {
    "tags": []
   },
   "outputs": [
    {
     "data": {
      "text/plain": [
       "1.0"
      ]
     },
     "execution_count": 85,
     "metadata": {},
     "output_type": "execute_result"
    }
   ],
   "source": [
    "np.exp(0)"
   ]
  },
  {
   "cell_type": "code",
   "execution_count": 90,
   "id": "f44d478c-5ea2-4834-b8fc-3524fc2b0d40",
   "metadata": {
    "tags": []
   },
   "outputs": [],
   "source": [
    "x=10 #1010"
   ]
  },
  {
   "cell_type": "code",
   "execution_count": 95,
   "id": "4105e041-bdaf-4220-9c5a-23b9f8fa672a",
   "metadata": {
    "tags": []
   },
   "outputs": [],
   "source": [
    "y=5 #1010"
   ]
  },
  {
   "cell_type": "code",
   "execution_count": 96,
   "id": "05fe24d4-4f78-48f7-8e6e-6adb5894d041",
   "metadata": {
    "tags": []
   },
   "outputs": [
    {
     "data": {
      "text/plain": [
       "15"
      ]
     },
     "execution_count": 96,
     "metadata": {},
     "output_type": "execute_result"
    }
   ],
   "source": [
    "np.bitwise_or(x,y)"
   ]
  },
  {
   "cell_type": "code",
   "execution_count": 97,
   "id": "d298cd50-9d67-4b89-87ec-26a71b3d3594",
   "metadata": {
    "tags": []
   },
   "outputs": [
    {
     "data": {
      "text/plain": [
       "40"
      ]
     },
     "execution_count": 97,
     "metadata": {},
     "output_type": "execute_result"
    }
   ],
   "source": [
    "np.left_shift(x,2)"
   ]
  },
  {
   "cell_type": "code",
   "execution_count": 99,
   "id": "d82d91ae-e9c4-4ec2-a131-ea7bb486584b",
   "metadata": {
    "tags": []
   },
   "outputs": [
    {
     "data": {
      "text/plain": [
       "2"
      ]
     },
     "execution_count": 99,
     "metadata": {},
     "output_type": "execute_result"
    }
   ],
   "source": [
    "np.right_shift(y,1)"
   ]
  },
  {
   "cell_type": "code",
   "execution_count": 100,
   "id": "91f6e65b-4c96-4780-9b0e-2164d1bcd71e",
   "metadata": {
    "tags": []
   },
   "outputs": [],
   "source": [
    "temp=np.zeros((5,5))"
   ]
  },
  {
   "cell_type": "code",
   "execution_count": 101,
   "id": "fdf7643c-a30f-437c-9c1b-05624871eeac",
   "metadata": {
    "tags": []
   },
   "outputs": [
    {
     "data": {
      "text/plain": [
       "array([[0., 0., 0., 0., 0.],\n",
       "       [0., 0., 0., 0., 0.],\n",
       "       [0., 0., 0., 0., 0.],\n",
       "       [0., 0., 0., 0., 0.],\n",
       "       [0., 0., 0., 0., 0.]])"
      ]
     },
     "execution_count": 101,
     "metadata": {},
     "output_type": "execute_result"
    }
   ],
   "source": [
    "temp"
   ]
  },
  {
   "cell_type": "code",
   "execution_count": 102,
   "id": "8d6cc545-fcb9-4008-9d4a-6b192e98d6d0",
   "metadata": {
    "tags": []
   },
   "outputs": [],
   "source": [
    "temp=np.ones((5,5))"
   ]
  },
  {
   "cell_type": "code",
   "execution_count": 103,
   "id": "ff57416b-a9ec-4573-b3b6-37988fac3654",
   "metadata": {
    "tags": []
   },
   "outputs": [
    {
     "data": {
      "text/plain": [
       "array([[1., 1., 1., 1., 1.],\n",
       "       [1., 1., 1., 1., 1.],\n",
       "       [1., 1., 1., 1., 1.],\n",
       "       [1., 1., 1., 1., 1.],\n",
       "       [1., 1., 1., 1., 1.]])"
      ]
     },
     "execution_count": 103,
     "metadata": {},
     "output_type": "execute_result"
    }
   ],
   "source": [
    "temp"
   ]
  },
  {
   "cell_type": "code",
   "execution_count": null,
   "id": "1d7a0619-b619-4386-aaf4-c5326ed708b4",
   "metadata": {},
   "outputs": [],
   "source": []
  },
  {
   "cell_type": "code",
   "execution_count": null,
   "id": "b466453c-74d1-4065-b881-d6a52dc449dc",
   "metadata": {},
   "outputs": [],
   "source": []
  }
 ],
 "metadata": {
  "kernelspec": {
   "display_name": "Python 3 (ipykernel)",
   "language": "python",
   "name": "python3"
  },
  "language_info": {
   "codemirror_mode": {
    "name": "ipython",
    "version": 3
   },
   "file_extension": ".py",
   "mimetype": "text/x-python",
   "name": "python",
   "nbconvert_exporter": "python",
   "pygments_lexer": "ipython3",
   "version": "3.11.4"
  }
 },
 "nbformat": 4,
 "nbformat_minor": 5
}
